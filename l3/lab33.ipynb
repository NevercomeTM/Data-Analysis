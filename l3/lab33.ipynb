{
  "nbformat": 4,
  "nbformat_minor": 0,
  "metadata": {
    "colab": {
      "provenance": []
    },
    "kernelspec": {
      "name": "python3",
      "display_name": "Python 3"
    },
    "language_info": {
      "name": "python"
    },
    "accelerator": "GPU",
    "gpuClass": "standard"
  },
  "cells": [
    {
      "cell_type": "code",
      "execution_count": 67,
      "metadata": {
        "id": "G0olDgvjJACD"
      },
      "outputs": [],
      "source": [
        "import pandas as pd\n",
        "import numpy as np\n",
        "import seaborn as sns\n",
        "import matplotlib.pyplot as plt\n",
        "import keras\n",
        "%matplotlib inline"
      ]
    },
    {
      "cell_type": "code",
      "source": [
        "from keras import models, layers\n",
        "from sklearn.model_selection import train_test_split"
      ],
      "metadata": {
        "id": "ilAHQt9FJ5A4"
      },
      "execution_count": 68,
      "outputs": []
    },
    {
      "cell_type": "code",
      "source": [
        "infa = pd.read_csv('train.csv')\n",
        "infa"
      ],
      "metadata": {
        "colab": {
          "base_uri": "https://localhost:8080/",
          "height": 424
        },
        "id": "aLmslBaWgB7T",
        "outputId": "3866cdae-12cc-4363-8dc0-dc229cfef20a"
      },
      "execution_count": 69,
      "outputs": [
        {
          "output_type": "execute_result",
          "data": {
            "text/plain": [
              "                                                    sms  label\n",
              "0     Go until jurong point, crazy.. Available only ...      0\n",
              "1                       Ok lar... Joking wif u oni...\\n      0\n",
              "2     Free entry in 2 a wkly comp to win FA Cup fina...      1\n",
              "3     U dun say so early hor... U c already then say...      0\n",
              "4     Nah I don't think he goes to usf, he lives aro...      0\n",
              "...                                                 ...    ...\n",
              "5569  This is the 2nd time we have tried 2 contact u...      1\n",
              "5570             Will ü b going to esplanade fr home?\\n      0\n",
              "5571  Pity, * was in mood for that. So...any other s...      0\n",
              "5572  The guy did some bitching but I acted like i'd...      0\n",
              "5573                       Rofl. Its true to its name\\n      0\n",
              "\n",
              "[5574 rows x 2 columns]"
            ],
            "text/html": [
              "\n",
              "  <div id=\"df-673f84ba-0335-42d5-a7e0-7a482e878c7d\">\n",
              "    <div class=\"colab-df-container\">\n",
              "      <div>\n",
              "<style scoped>\n",
              "    .dataframe tbody tr th:only-of-type {\n",
              "        vertical-align: middle;\n",
              "    }\n",
              "\n",
              "    .dataframe tbody tr th {\n",
              "        vertical-align: top;\n",
              "    }\n",
              "\n",
              "    .dataframe thead th {\n",
              "        text-align: right;\n",
              "    }\n",
              "</style>\n",
              "<table border=\"1\" class=\"dataframe\">\n",
              "  <thead>\n",
              "    <tr style=\"text-align: right;\">\n",
              "      <th></th>\n",
              "      <th>sms</th>\n",
              "      <th>label</th>\n",
              "    </tr>\n",
              "  </thead>\n",
              "  <tbody>\n",
              "    <tr>\n",
              "      <th>0</th>\n",
              "      <td>Go until jurong point, crazy.. Available only ...</td>\n",
              "      <td>0</td>\n",
              "    </tr>\n",
              "    <tr>\n",
              "      <th>1</th>\n",
              "      <td>Ok lar... Joking wif u oni...\\n</td>\n",
              "      <td>0</td>\n",
              "    </tr>\n",
              "    <tr>\n",
              "      <th>2</th>\n",
              "      <td>Free entry in 2 a wkly comp to win FA Cup fina...</td>\n",
              "      <td>1</td>\n",
              "    </tr>\n",
              "    <tr>\n",
              "      <th>3</th>\n",
              "      <td>U dun say so early hor... U c already then say...</td>\n",
              "      <td>0</td>\n",
              "    </tr>\n",
              "    <tr>\n",
              "      <th>4</th>\n",
              "      <td>Nah I don't think he goes to usf, he lives aro...</td>\n",
              "      <td>0</td>\n",
              "    </tr>\n",
              "    <tr>\n",
              "      <th>...</th>\n",
              "      <td>...</td>\n",
              "      <td>...</td>\n",
              "    </tr>\n",
              "    <tr>\n",
              "      <th>5569</th>\n",
              "      <td>This is the 2nd time we have tried 2 contact u...</td>\n",
              "      <td>1</td>\n",
              "    </tr>\n",
              "    <tr>\n",
              "      <th>5570</th>\n",
              "      <td>Will ü b going to esplanade fr home?\\n</td>\n",
              "      <td>0</td>\n",
              "    </tr>\n",
              "    <tr>\n",
              "      <th>5571</th>\n",
              "      <td>Pity, * was in mood for that. So...any other s...</td>\n",
              "      <td>0</td>\n",
              "    </tr>\n",
              "    <tr>\n",
              "      <th>5572</th>\n",
              "      <td>The guy did some bitching but I acted like i'd...</td>\n",
              "      <td>0</td>\n",
              "    </tr>\n",
              "    <tr>\n",
              "      <th>5573</th>\n",
              "      <td>Rofl. Its true to its name\\n</td>\n",
              "      <td>0</td>\n",
              "    </tr>\n",
              "  </tbody>\n",
              "</table>\n",
              "<p>5574 rows × 2 columns</p>\n",
              "</div>\n",
              "      <button class=\"colab-df-convert\" onclick=\"convertToInteractive('df-673f84ba-0335-42d5-a7e0-7a482e878c7d')\"\n",
              "              title=\"Convert this dataframe to an interactive table.\"\n",
              "              style=\"display:none;\">\n",
              "        \n",
              "  <svg xmlns=\"http://www.w3.org/2000/svg\" height=\"24px\"viewBox=\"0 0 24 24\"\n",
              "       width=\"24px\">\n",
              "    <path d=\"M0 0h24v24H0V0z\" fill=\"none\"/>\n",
              "    <path d=\"M18.56 5.44l.94 2.06.94-2.06 2.06-.94-2.06-.94-.94-2.06-.94 2.06-2.06.94zm-11 1L8.5 8.5l.94-2.06 2.06-.94-2.06-.94L8.5 2.5l-.94 2.06-2.06.94zm10 10l.94 2.06.94-2.06 2.06-.94-2.06-.94-.94-2.06-.94 2.06-2.06.94z\"/><path d=\"M17.41 7.96l-1.37-1.37c-.4-.4-.92-.59-1.43-.59-.52 0-1.04.2-1.43.59L10.3 9.45l-7.72 7.72c-.78.78-.78 2.05 0 2.83L4 21.41c.39.39.9.59 1.41.59.51 0 1.02-.2 1.41-.59l7.78-7.78 2.81-2.81c.8-.78.8-2.07 0-2.86zM5.41 20L4 18.59l7.72-7.72 1.47 1.35L5.41 20z\"/>\n",
              "  </svg>\n",
              "      </button>\n",
              "      \n",
              "  <style>\n",
              "    .colab-df-container {\n",
              "      display:flex;\n",
              "      flex-wrap:wrap;\n",
              "      gap: 12px;\n",
              "    }\n",
              "\n",
              "    .colab-df-convert {\n",
              "      background-color: #E8F0FE;\n",
              "      border: none;\n",
              "      border-radius: 50%;\n",
              "      cursor: pointer;\n",
              "      display: none;\n",
              "      fill: #1967D2;\n",
              "      height: 32px;\n",
              "      padding: 0 0 0 0;\n",
              "      width: 32px;\n",
              "    }\n",
              "\n",
              "    .colab-df-convert:hover {\n",
              "      background-color: #E2EBFA;\n",
              "      box-shadow: 0px 1px 2px rgba(60, 64, 67, 0.3), 0px 1px 3px 1px rgba(60, 64, 67, 0.15);\n",
              "      fill: #174EA6;\n",
              "    }\n",
              "\n",
              "    [theme=dark] .colab-df-convert {\n",
              "      background-color: #3B4455;\n",
              "      fill: #D2E3FC;\n",
              "    }\n",
              "\n",
              "    [theme=dark] .colab-df-convert:hover {\n",
              "      background-color: #434B5C;\n",
              "      box-shadow: 0px 1px 3px 1px rgba(0, 0, 0, 0.15);\n",
              "      filter: drop-shadow(0px 1px 2px rgba(0, 0, 0, 0.3));\n",
              "      fill: #FFFFFF;\n",
              "    }\n",
              "  </style>\n",
              "\n",
              "      <script>\n",
              "        const buttonEl =\n",
              "          document.querySelector('#df-673f84ba-0335-42d5-a7e0-7a482e878c7d button.colab-df-convert');\n",
              "        buttonEl.style.display =\n",
              "          google.colab.kernel.accessAllowed ? 'block' : 'none';\n",
              "\n",
              "        async function convertToInteractive(key) {\n",
              "          const element = document.querySelector('#df-673f84ba-0335-42d5-a7e0-7a482e878c7d');\n",
              "          const dataTable =\n",
              "            await google.colab.kernel.invokeFunction('convertToInteractive',\n",
              "                                                     [key], {});\n",
              "          if (!dataTable) return;\n",
              "\n",
              "          const docLinkHtml = 'Like what you see? Visit the ' +\n",
              "            '<a target=\"_blank\" href=https://colab.research.google.com/notebooks/data_table.ipynb>data table notebook</a>'\n",
              "            + ' to learn more about interactive tables.';\n",
              "          element.innerHTML = '';\n",
              "          dataTable['output_type'] = 'display_data';\n",
              "          await google.colab.output.renderOutput(dataTable, element);\n",
              "          const docLink = document.createElement('div');\n",
              "          docLink.innerHTML = docLinkHtml;\n",
              "          element.appendChild(docLink);\n",
              "        }\n",
              "      </script>\n",
              "    </div>\n",
              "  </div>\n",
              "  "
            ]
          },
          "metadata": {},
          "execution_count": 69
        }
      ]
    },
    {
      "cell_type": "code",
      "source": [
        "y = infa['label']\n",
        "x= infa['sms']"
      ],
      "metadata": {
        "id": "haWaoKCVgYU3"
      },
      "execution_count": 70,
      "outputs": []
    },
    {
      "cell_type": "code",
      "source": [
        "import tensorflow as tf\n",
        "xtrain, xtest, ytrain, ytest = train_test_split(x, y, test_size = 0.2)\n",
        "train_data = tf.data.Dataset.from_tensor_slices((xtrain,ytrain))\n",
        "test_data = tf.data.Dataset.from_tensor_slices((xtest,ytest))"
      ],
      "metadata": {
        "id": "DsLwtjPFgoVf"
      },
      "execution_count": 71,
      "outputs": []
    },
    {
      "cell_type": "code",
      "source": [
        "train_data = train_data.batch(32).prefetch(tf.data.AUTOTUNE)\n",
        "test_data = test_data.batch(32).prefetch(tf.data.AUTOTUNE)\n"
      ],
      "metadata": {
        "id": "7y4LiopGhUTs"
      },
      "execution_count": 72,
      "outputs": []
    },
    {
      "cell_type": "code",
      "source": [
        "vectorer = layers.TextVectorization(max_tokens= 1000)\n",
        "vectorer.adapt(train_data.map(lambda sms, label:sms))"
      ],
      "metadata": {
        "id": "l7E7W8q8hm4J"
      },
      "execution_count": 73,
      "outputs": []
    },
    {
      "cell_type": "code",
      "source": [
        "madel = models.Sequential([\n",
        "    vectorer,\n",
        "    layers.Embedding(input_dim = len(vectorer.get_vocabulary()), output_dim = 64,mask_zero = True),\n",
        "    layers.Bidirectional(layers.LSTM(64)),\n",
        "    layers.Dense(units=64, activation = 'relu'),\n",
        "    layers.Dense(units=1, activation = 'sigmoid')\n",
        "])\n",
        "madel.compile(optimizer = keras.optimizers.Adam(1e-4), loss = keras.losses.BinaryCrossentropy(from_logits = True),metrics = ['accuracy'])"
      ],
      "metadata": {
        "id": "KBP-0SYEiSgH"
      },
      "execution_count": 74,
      "outputs": []
    },
    {
      "cell_type": "code",
      "source": [
        "madel.fit(train_data, epochs = 32, validation_data=test_data)"
      ],
      "metadata": {
        "colab": {
          "base_uri": "https://localhost:8080/"
        },
        "id": "xroCHR_Ajjl3",
        "outputId": "fddc9441-6c74-42f8-be1e-bc2cff5b3be5"
      },
      "execution_count": 75,
      "outputs": [
        {
          "output_type": "stream",
          "name": "stdout",
          "text": [
            "Epoch 1/32\n"
          ]
        },
        {
          "output_type": "stream",
          "name": "stderr",
          "text": [
            "/usr/local/lib/python3.8/dist-packages/tensorflow/python/util/dispatch.py:1082: UserWarning: \"`binary_crossentropy` received `from_logits=True`, but the `output` argument was produced by a sigmoid or softmax activation and thus does not represent logits. Was this intended?\"\n",
            "  return dispatch_target(*args, **kwargs)\n"
          ]
        },
        {
          "output_type": "stream",
          "name": "stdout",
          "text": [
            "140/140 [==============================] - 12s 37ms/step - loss: 0.6021 - accuracy: 0.8540 - val_loss: 0.5016 - val_accuracy: 0.8565\n",
            "Epoch 2/32\n",
            "140/140 [==============================] - 3s 20ms/step - loss: 0.3759 - accuracy: 0.8704 - val_loss: 0.2495 - val_accuracy: 0.8816\n",
            "Epoch 3/32\n",
            "140/140 [==============================] - 3s 20ms/step - loss: 0.1569 - accuracy: 0.9581 - val_loss: 0.1071 - val_accuracy: 0.9740\n",
            "Epoch 4/32\n",
            "140/140 [==============================] - 3s 20ms/step - loss: 0.0889 - accuracy: 0.9791 - val_loss: 0.0790 - val_accuracy: 0.9803\n",
            "Epoch 5/32\n",
            "140/140 [==============================] - 3s 20ms/step - loss: 0.0614 - accuracy: 0.9845 - val_loss: 0.0709 - val_accuracy: 0.9839\n",
            "Epoch 6/32\n",
            "140/140 [==============================] - 3s 20ms/step - loss: 0.0499 - accuracy: 0.9865 - val_loss: 0.0676 - val_accuracy: 0.9848\n",
            "Epoch 7/32\n",
            "140/140 [==============================] - 3s 20ms/step - loss: 0.0422 - accuracy: 0.9881 - val_loss: 0.0659 - val_accuracy: 0.9839\n",
            "Epoch 8/32\n",
            "140/140 [==============================] - 3s 21ms/step - loss: 0.0360 - accuracy: 0.9886 - val_loss: 0.0654 - val_accuracy: 0.9821\n",
            "Epoch 9/32\n",
            "140/140 [==============================] - 3s 20ms/step - loss: 0.0307 - accuracy: 0.9910 - val_loss: 0.0662 - val_accuracy: 0.9821\n",
            "Epoch 10/32\n",
            "140/140 [==============================] - 3s 19ms/step - loss: 0.0259 - accuracy: 0.9924 - val_loss: 0.0678 - val_accuracy: 0.9848\n",
            "Epoch 11/32\n",
            "140/140 [==============================] - 3s 20ms/step - loss: 0.0216 - accuracy: 0.9937 - val_loss: 0.0706 - val_accuracy: 0.9857\n",
            "Epoch 12/32\n",
            "140/140 [==============================] - 3s 20ms/step - loss: 0.0181 - accuracy: 0.9948 - val_loss: 0.0740 - val_accuracy: 0.9848\n",
            "Epoch 13/32\n",
            "140/140 [==============================] - 3s 20ms/step - loss: 0.0153 - accuracy: 0.9964 - val_loss: 0.0778 - val_accuracy: 0.9848\n",
            "Epoch 14/32\n",
            "140/140 [==============================] - 3s 20ms/step - loss: 0.0130 - accuracy: 0.9971 - val_loss: 0.0820 - val_accuracy: 0.9857\n",
            "Epoch 15/32\n",
            "140/140 [==============================] - 3s 20ms/step - loss: 0.0111 - accuracy: 0.9975 - val_loss: 0.0868 - val_accuracy: 0.9857\n",
            "Epoch 16/32\n",
            "140/140 [==============================] - 3s 20ms/step - loss: 0.0099 - accuracy: 0.9980 - val_loss: 0.0912 - val_accuracy: 0.9848\n",
            "Epoch 17/32\n",
            "140/140 [==============================] - 3s 20ms/step - loss: 0.0087 - accuracy: 0.9982 - val_loss: 0.0950 - val_accuracy: 0.9830\n",
            "Epoch 18/32\n",
            "140/140 [==============================] - 3s 20ms/step - loss: 0.0072 - accuracy: 0.9984 - val_loss: 0.1003 - val_accuracy: 0.9839\n",
            "Epoch 19/32\n",
            "140/140 [==============================] - 3s 20ms/step - loss: 0.0072 - accuracy: 0.9982 - val_loss: 0.1009 - val_accuracy: 0.9821\n",
            "Epoch 20/32\n",
            "140/140 [==============================] - 3s 20ms/step - loss: 0.0059 - accuracy: 0.9987 - val_loss: 0.1060 - val_accuracy: 0.9830\n",
            "Epoch 21/32\n",
            "140/140 [==============================] - 3s 20ms/step - loss: 0.0052 - accuracy: 0.9989 - val_loss: 0.1112 - val_accuracy: 0.9830\n",
            "Epoch 22/32\n",
            "140/140 [==============================] - 3s 20ms/step - loss: 0.0047 - accuracy: 0.9991 - val_loss: 0.1159 - val_accuracy: 0.9830\n",
            "Epoch 23/32\n",
            "140/140 [==============================] - 3s 20ms/step - loss: 0.0043 - accuracy: 0.9991 - val_loss: 0.1200 - val_accuracy: 0.9830\n",
            "Epoch 24/32\n",
            "140/140 [==============================] - 3s 20ms/step - loss: 0.0038 - accuracy: 0.9993 - val_loss: 0.1237 - val_accuracy: 0.9812\n",
            "Epoch 25/32\n",
            "140/140 [==============================] - 3s 20ms/step - loss: 0.0035 - accuracy: 0.9993 - val_loss: 0.1275 - val_accuracy: 0.9812\n",
            "Epoch 26/32\n",
            "140/140 [==============================] - 3s 20ms/step - loss: 0.0033 - accuracy: 0.9993 - val_loss: 0.1312 - val_accuracy: 0.9812\n",
            "Epoch 27/32\n",
            "140/140 [==============================] - 3s 20ms/step - loss: 0.0030 - accuracy: 0.9993 - val_loss: 0.1349 - val_accuracy: 0.9812\n",
            "Epoch 28/32\n",
            "140/140 [==============================] - 3s 19ms/step - loss: 0.0028 - accuracy: 0.9993 - val_loss: 0.1384 - val_accuracy: 0.9803\n",
            "Epoch 29/32\n",
            "140/140 [==============================] - 3s 20ms/step - loss: 0.0027 - accuracy: 0.9993 - val_loss: 0.1419 - val_accuracy: 0.9812\n",
            "Epoch 30/32\n",
            "140/140 [==============================] - 3s 20ms/step - loss: 0.0025 - accuracy: 0.9996 - val_loss: 0.1453 - val_accuracy: 0.9812\n",
            "Epoch 31/32\n",
            "140/140 [==============================] - 3s 20ms/step - loss: 0.0024 - accuracy: 0.9996 - val_loss: 0.1488 - val_accuracy: 0.9812\n",
            "Epoch 32/32\n",
            "140/140 [==============================] - 3s 19ms/step - loss: 0.0022 - accuracy: 0.9996 - val_loss: 0.1527 - val_accuracy: 0.9803\n"
          ]
        },
        {
          "output_type": "execute_result",
          "data": {
            "text/plain": [
              "<keras.callbacks.History at 0x7f25ccb7d430>"
            ]
          },
          "metadata": {},
          "execution_count": 75
        }
      ]
    },
    {
      "cell_type": "code",
      "source": [],
      "metadata": {
        "id": "js339J6oohpi"
      },
      "execution_count": null,
      "outputs": []
    }
  ]
}