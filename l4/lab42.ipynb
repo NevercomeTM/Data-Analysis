{
  "nbformat": 4,
  "nbformat_minor": 0,
  "metadata": {
    "colab": {
      "provenance": []
    },
    "kernelspec": {
      "name": "python3",
      "display_name": "Python 3"
    },
    "language_info": {
      "name": "python"
    },
    "accelerator": "GPU",
    "gpuClass": "standard"
  },
  "cells": [
    {
      "cell_type": "code",
      "execution_count": 2,
      "metadata": {
        "id": "qtnFS02P9jbw"
      },
      "outputs": [],
      "source": [
        "import pathlib\n",
        "import random\n",
        "import string\n",
        "import re\n",
        "import numpy as np\n",
        "import tensorflow as tf\n",
        "from tensorflow import keras\n",
        "from tensorflow.keras import layers\n",
        "from tensorflow.keras.layers import TextVectorization"
      ]
    },
    {
      "cell_type": "code",
      "source": [
        "!unzip ces-eng.zip\n"
      ],
      "metadata": {
        "colab": {
          "base_uri": "https://localhost:8080/"
        },
        "id": "zVubgaRw_917",
        "outputId": "0c133261-9262-48d8-cbb2-ba6790d8502e"
      },
      "execution_count": 3,
      "outputs": [
        {
          "output_type": "stream",
          "name": "stdout",
          "text": [
            "Archive:  ces-eng.zip\n",
            "  inflating: ces.txt                 \n",
            "  inflating: _about.txt              \n"
          ]
        }
      ]
    },
    {
      "cell_type": "code",
      "source": [
        "with open('./ces.txt') as f:\n",
        "    lines = f.read().split(\"\\n\")[:-1]\n",
        "text_pairs = []\n",
        "for line in lines:\n",
        "    eng, ces,_ = line.split(\"\\t\")\n",
        "    ces = \"[start] \" + ces + \" [end]\"\n",
        "    text_pairs.append((eng, ces))"
      ],
      "metadata": {
        "id": "WM2R47p69sOt"
      },
      "execution_count": 4,
      "outputs": []
    },
    {
      "cell_type": "code",
      "source": [
        "for _ in range(5):\n",
        "    print(random.choice(text_pairs))"
      ],
      "metadata": {
        "colab": {
          "base_uri": "https://localhost:8080/"
        },
        "id": "6vLXvLVM969f",
        "outputId": "55ca6d41-ea08-44d0-e95f-b5ea825a7a62"
      },
      "execution_count": 5,
      "outputs": [
        {
          "output_type": "stream",
          "name": "stdout",
          "text": [
            "('Thank you very much for your invitation.', '[start] Díky moc za pozvání. [end]')\n",
            "('I will do the homework.', '[start] Budu dělat domácí úkol. [end]')\n",
            "('The boat capsized.', '[start] Loď se převrhla. [end]')\n",
            "(\"Tom's house doesn't have a garage.\", '[start] Tomův dům nemá garáž. [end]')\n",
            "(\"Don't look at that.\", '[start] Nedívej se na to. [end]')\n"
          ]
        }
      ]
    },
    {
      "cell_type": "code",
      "source": [
        "random.shuffle(text_pairs)\n",
        "num_val_samples = int(0.15 * len(text_pairs))\n",
        "num_train_samples = len(text_pairs) - 2 * num_val_samples\n",
        "train_pairs = text_pairs[:num_train_samples]\n",
        "val_pairs = text_pairs[num_train_samples : num_train_samples + num_val_samples]\n",
        "test_pairs = text_pairs[num_train_samples + num_val_samples :]\n",
        "\n",
        "print(f\"{len(text_pairs)} total pairs\")\n",
        "print(f\"{len(train_pairs)} training pairs\")\n",
        "print(f\"{len(val_pairs)} validation pairs\")\n",
        "print(f\"{len(test_pairs)} test pairs\")"
      ],
      "metadata": {
        "colab": {
          "base_uri": "https://localhost:8080/"
        },
        "id": "YyxIzV3v99ul",
        "outputId": "3fc083b6-5f51-40c9-eafa-01cfd36e8a53"
      },
      "execution_count": 6,
      "outputs": [
        {
          "output_type": "stream",
          "name": "stdout",
          "text": [
            "33477 total pairs\n",
            "23435 training pairs\n",
            "5021 validation pairs\n",
            "5021 test pairs\n"
          ]
        }
      ]
    },
    {
      "cell_type": "code",
      "source": [
        "strip_chars = string.punctuation + \"¿\"\n",
        "strip_chars = strip_chars.replace(\"[\", \"\")\n",
        "strip_chars = strip_chars.replace(\"]\", \"\")\n",
        "\n",
        "vocab_size = 15000\n",
        "sequence_length = 20\n",
        "batch_size = 64\n",
        "\n",
        "\n",
        "def custom_standardization(input_string):\n",
        "    lowercase = tf.strings.lower(input_string)\n",
        "    return tf.strings.regex_replace(lowercase, \"[%s]\" % re.escape(strip_chars), \"\")\n",
        "\n",
        "\n",
        "eng_vectorization = TextVectorization(\n",
        "    max_tokens=vocab_size, output_mode=\"int\", output_sequence_length=sequence_length,\n",
        ")\n",
        "ces_vectorization = TextVectorization(\n",
        "    max_tokens=vocab_size,\n",
        "    output_mode=\"int\",\n",
        "    output_sequence_length=sequence_length + 1,\n",
        "    standardize=custom_standardization,\n",
        ")\n",
        "train_eng_texts = [pair[0] for pair in train_pairs]\n",
        "train_ces_texts = [pair[1] for pair in train_pairs]\n",
        "eng_vectorization.adapt(train_eng_texts)\n",
        "ces_vectorization.adapt(train_ces_texts)"
      ],
      "metadata": {
        "id": "AwHZh2M_-AZd"
      },
      "execution_count": 7,
      "outputs": []
    },
    {
      "cell_type": "code",
      "source": [
        "def format_dataset(eng, ces):\n",
        "    eng = eng_vectorization(eng)\n",
        "    ces = ces_vectorization(ces)\n",
        "    return ({\"encoder_inputs\": eng, \"decoder_inputs\": ces[:, :-1],}, ces[:, 1:])\n",
        "\n",
        "\n",
        "def make_dataset(pairs):\n",
        "    eng_texts, ces_texts = zip(*pairs)\n",
        "    eng_texts = list(eng_texts)\n",
        "    ces_texts = list(ces_texts)\n",
        "    dataset = tf.data.Dataset.from_tensor_slices((eng_texts, ces_texts))\n",
        "    dataset = dataset.batch(batch_size)\n",
        "    dataset = dataset.map(format_dataset)\n",
        "    return dataset.shuffle(2048).prefetch(16).cache()\n",
        "\n",
        "\n",
        "train_ds = make_dataset(train_pairs)\n",
        "val_ds = make_dataset(val_pairs)"
      ],
      "metadata": {
        "id": "eic-Bgj7-E_e"
      },
      "execution_count": 8,
      "outputs": []
    },
    {
      "cell_type": "code",
      "source": [
        "for inputs, targets in train_ds.take(1):\n",
        "    print(f'inputs[\"encoder_inputs\"].shape: {inputs[\"encoder_inputs\"].shape}')\n",
        "    print(f'inputs[\"decoder_inputs\"].shape: {inputs[\"decoder_inputs\"].shape}')\n",
        "    print(f\"targets.shape: {targets.shape}\")"
      ],
      "metadata": {
        "colab": {
          "base_uri": "https://localhost:8080/"
        },
        "id": "n5TpQP_T-Hr8",
        "outputId": "83bb1f86-d77d-4580-89fb-a30c64871d3a"
      },
      "execution_count": 9,
      "outputs": [
        {
          "output_type": "stream",
          "name": "stdout",
          "text": [
            "inputs[\"encoder_inputs\"].shape: (64, 20)\n",
            "inputs[\"decoder_inputs\"].shape: (64, 20)\n",
            "targets.shape: (64, 20)\n"
          ]
        }
      ]
    },
    {
      "cell_type": "code",
      "source": [
        "class TransformerEncoder(layers.Layer):\n",
        "    def __init__(self, embed_dim, dense_dim, num_heads, **kwargs):\n",
        "        super().__init__(**kwargs)\n",
        "        self.embed_dim = embed_dim\n",
        "        self.dense_dim = dense_dim\n",
        "        self.num_heads = num_heads\n",
        "        self.attention = layers.MultiHeadAttention(\n",
        "            num_heads=num_heads, key_dim=embed_dim\n",
        "        )\n",
        "        self.dense_proj = keras.Sequential(\n",
        "            [layers.Dense(dense_dim, activation=\"relu\"), layers.Dense(embed_dim),]\n",
        "        )\n",
        "        self.layernorm_1 = layers.LayerNormalization()\n",
        "        self.layernorm_2 = layers.LayerNormalization()\n",
        "        self.supports_masking = True\n",
        "\n",
        "    def call(self, inputs, mask=None):\n",
        "        if mask is not None:\n",
        "            padding_mask = tf.cast(mask[:, tf.newaxis, tf.newaxis, :], dtype=\"int32\")\n",
        "        attention_output = self.attention(\n",
        "            query=inputs, value=inputs, key=inputs, attention_mask=padding_mask\n",
        "        )\n",
        "        proj_input = self.layernorm_1(inputs + attention_output)\n",
        "        proj_output = self.dense_proj(proj_input)\n",
        "        return self.layernorm_2(proj_input + proj_output)\n",
        "\n",
        "\n",
        "class PositionalEmbedding(layers.Layer):\n",
        "    def __init__(self, sequence_length, vocab_size, embed_dim, **kwargs):\n",
        "        super().__init__(**kwargs)\n",
        "        self.token_embeddings = layers.Embedding(\n",
        "            input_dim=vocab_size, output_dim=embed_dim\n",
        "        )\n",
        "        self.position_embeddings = layers.Embedding(\n",
        "            input_dim=sequence_length, output_dim=embed_dim\n",
        "        )\n",
        "        self.sequence_length = sequence_length\n",
        "        self.vocab_size = vocab_size\n",
        "        self.embed_dim = embed_dim\n",
        "\n",
        "    def call(self, inputs):\n",
        "        length = tf.shape(inputs)[-1]\n",
        "        positions = tf.range(start=0, limit=length, delta=1)\n",
        "        embedded_tokens = self.token_embeddings(inputs)\n",
        "        embedded_positions = self.position_embeddings(positions)\n",
        "        return embedded_tokens + embedded_positions\n",
        "\n",
        "    def compute_mask(self, inputs, mask=None):\n",
        "        return tf.math.not_equal(inputs, 0)\n",
        "\n",
        "\n",
        "class TransformerDecoder(layers.Layer):\n",
        "    def __init__(self, embed_dim, latent_dim, num_heads, **kwargs):\n",
        "        super().__init__(**kwargs)\n",
        "        self.embed_dim = embed_dim\n",
        "        self.latent_dim = latent_dim\n",
        "        self.num_heads = num_heads\n",
        "        self.attention_1 = layers.MultiHeadAttention(\n",
        "            num_heads=num_heads, key_dim=embed_dim\n",
        "        )\n",
        "        self.attention_2 = layers.MultiHeadAttention(\n",
        "            num_heads=num_heads, key_dim=embed_dim\n",
        "        )\n",
        "        self.dense_proj = keras.Sequential(\n",
        "            [layers.Dense(latent_dim, activation=\"relu\"), layers.Dense(embed_dim),]\n",
        "        )\n",
        "        self.layernorm_1 = layers.LayerNormalization()\n",
        "        self.layernorm_2 = layers.LayerNormalization()\n",
        "        self.layernorm_3 = layers.LayerNormalization()\n",
        "        self.supports_masking = True\n",
        "\n",
        "    def call(self, inputs, encoder_outputs, mask=None):\n",
        "        causal_mask = self.get_causal_attention_mask(inputs)\n",
        "        if mask is not None:\n",
        "            padding_mask = tf.cast(mask[:, tf.newaxis, :], dtype=\"int32\")\n",
        "            padding_mask = tf.minimum(padding_mask, causal_mask)\n",
        "\n",
        "        attention_output_1 = self.attention_1(\n",
        "            query=inputs, value=inputs, key=inputs, attention_mask=causal_mask\n",
        "        )\n",
        "        out_1 = self.layernorm_1(inputs + attention_output_1)\n",
        "\n",
        "        attention_output_2 = self.attention_2(\n",
        "            query=out_1,\n",
        "            value=encoder_outputs,\n",
        "            key=encoder_outputs,\n",
        "            attention_mask=padding_mask,\n",
        "        )\n",
        "        out_2 = self.layernorm_2(out_1 + attention_output_2)\n",
        "\n",
        "        proj_output = self.dense_proj(out_2)\n",
        "        return self.layernorm_3(out_2 + proj_output)\n",
        "\n",
        "    def get_causal_attention_mask(self, inputs):\n",
        "        input_shape = tf.shape(inputs)\n",
        "        batch_size, sequence_length = input_shape[0], input_shape[1]\n",
        "        i = tf.range(sequence_length)[:, tf.newaxis]\n",
        "        j = tf.range(sequence_length)\n",
        "        mask = tf.cast(i >= j, dtype=\"int32\")\n",
        "        mask = tf.reshape(mask, (1, input_shape[1], input_shape[1]))\n",
        "        mult = tf.concat(\n",
        "            [tf.expand_dims(batch_size, -1), tf.constant([1, 1], dtype=tf.int32)],\n",
        "            axis=0,\n",
        "        )\n",
        "        return tf.tile(mask, mult)"
      ],
      "metadata": {
        "id": "sIV1LpXR-Lyu"
      },
      "execution_count": 10,
      "outputs": []
    },
    {
      "cell_type": "code",
      "source": [
        "embed_dim = 256\n",
        "latent_dim = 2048\n",
        "num_heads = 8\n",
        "\n",
        "encoder_inputs = keras.Input(shape=(None,), dtype=\"int64\", name=\"encoder_inputs\")\n",
        "x = PositionalEmbedding(sequence_length, vocab_size, embed_dim)(encoder_inputs)\n",
        "encoder_outputs = TransformerEncoder(embed_dim, latent_dim, num_heads)(x)\n",
        "encoder = keras.Model(encoder_inputs, encoder_outputs)\n",
        "\n",
        "decoder_inputs = keras.Input(shape=(None,), dtype=\"int64\", name=\"decoder_inputs\")\n",
        "encoded_seq_inputs = keras.Input(shape=(None, embed_dim), name=\"decoder_state_inputs\")\n",
        "x = PositionalEmbedding(sequence_length, vocab_size, embed_dim)(decoder_inputs)\n",
        "x = TransformerDecoder(embed_dim, latent_dim, num_heads)(x, encoded_seq_inputs)\n",
        "x = layers.Dropout(0.5)(x)\n",
        "decoder_outputs = layers.Dense(vocab_size, activation=\"softmax\")(x)\n",
        "decoder = keras.Model([decoder_inputs, encoded_seq_inputs], decoder_outputs)\n",
        "\n",
        "decoder_outputs = decoder([decoder_inputs, encoder_outputs])\n",
        "transformer = keras.Model(\n",
        "    [encoder_inputs, decoder_inputs], decoder_outputs, name=\"transformer\"\n",
        ")"
      ],
      "metadata": {
        "id": "JGUsoEaH-OEH"
      },
      "execution_count": 11,
      "outputs": []
    },
    {
      "cell_type": "code",
      "source": [
        "epochs = 32\n",
        "\n",
        "transformer.summary()\n",
        "transformer.compile(\n",
        "    \"rmsprop\", loss=\"sparse_categorical_crossentropy\", metrics=[\"accuracy\"]\n",
        ")\n",
        "transformer.fit(train_ds, epochs=epochs, validation_data=val_ds)"
      ],
      "metadata": {
        "colab": {
          "base_uri": "https://localhost:8080/"
        },
        "id": "Y9Aouw69-WKu",
        "outputId": "6a21e4dc-a6f1-4746-bda6-4a8510e374ed"
      },
      "execution_count": 12,
      "outputs": [
        {
          "output_type": "stream",
          "name": "stdout",
          "text": [
            "Model: \"transformer\"\n",
            "__________________________________________________________________________________________________\n",
            " Layer (type)                   Output Shape         Param #     Connected to                     \n",
            "==================================================================================================\n",
            " encoder_inputs (InputLayer)    [(None, None)]       0           []                               \n",
            "                                                                                                  \n",
            " positional_embedding (Position  (None, None, 256)   3845120     ['encoder_inputs[0][0]']         \n",
            " alEmbedding)                                                                                     \n",
            "                                                                                                  \n",
            " decoder_inputs (InputLayer)    [(None, None)]       0           []                               \n",
            "                                                                                                  \n",
            " transformer_encoder (Transform  (None, None, 256)   3155456     ['positional_embedding[0][0]']   \n",
            " erEncoder)                                                                                       \n",
            "                                                                                                  \n",
            " model_1 (Functional)           (None, None, 15000)  12959640    ['decoder_inputs[0][0]',         \n",
            "                                                                  'transformer_encoder[0][0]']    \n",
            "                                                                                                  \n",
            "==================================================================================================\n",
            "Total params: 19,960,216\n",
            "Trainable params: 19,960,216\n",
            "Non-trainable params: 0\n",
            "__________________________________________________________________________________________________\n",
            "Epoch 1/32\n",
            "367/367 [==============================] - 33s 70ms/step - loss: 1.8358 - accuracy: 0.3451 - val_loss: 1.6513 - val_accuracy: 0.3852\n",
            "Epoch 2/32\n",
            "367/367 [==============================] - 26s 70ms/step - loss: 1.6450 - accuracy: 0.3943 - val_loss: 1.5712 - val_accuracy: 0.4125\n",
            "Epoch 3/32\n",
            "367/367 [==============================] - 25s 69ms/step - loss: 1.5503 - accuracy: 0.4191 - val_loss: 1.4878 - val_accuracy: 0.4375\n",
            "Epoch 4/32\n",
            "367/367 [==============================] - 25s 68ms/step - loss: 1.4723 - accuracy: 0.4423 - val_loss: 1.4788 - val_accuracy: 0.4553\n",
            "Epoch 5/32\n",
            "367/367 [==============================] - 25s 69ms/step - loss: 1.4094 - accuracy: 0.4631 - val_loss: 1.4193 - val_accuracy: 0.4698\n",
            "Epoch 6/32\n",
            "367/367 [==============================] - 25s 68ms/step - loss: 1.3506 - accuracy: 0.4815 - val_loss: 1.3804 - val_accuracy: 0.4763\n",
            "Epoch 7/32\n",
            "367/367 [==============================] - 25s 68ms/step - loss: 1.2963 - accuracy: 0.4968 - val_loss: 1.3375 - val_accuracy: 0.4909\n",
            "Epoch 8/32\n",
            "367/367 [==============================] - 25s 68ms/step - loss: 1.2460 - accuracy: 0.5130 - val_loss: 1.3346 - val_accuracy: 0.4941\n",
            "Epoch 9/32\n",
            "367/367 [==============================] - 25s 68ms/step - loss: 1.1984 - accuracy: 0.5272 - val_loss: 1.2947 - val_accuracy: 0.5060\n",
            "Epoch 10/32\n",
            "367/367 [==============================] - 25s 68ms/step - loss: 1.1551 - accuracy: 0.5407 - val_loss: 1.2925 - val_accuracy: 0.5102\n",
            "Epoch 11/32\n",
            "367/367 [==============================] - 25s 69ms/step - loss: 1.1237 - accuracy: 0.5536 - val_loss: 1.2765 - val_accuracy: 0.5174\n",
            "Epoch 12/32\n",
            "367/367 [==============================] - 25s 68ms/step - loss: 1.0993 - accuracy: 0.5665 - val_loss: 1.2700 - val_accuracy: 0.5205\n",
            "Epoch 13/32\n",
            "367/367 [==============================] - 25s 68ms/step - loss: 1.0796 - accuracy: 0.5775 - val_loss: 1.2603 - val_accuracy: 0.5226\n",
            "Epoch 14/32\n",
            "367/367 [==============================] - 25s 68ms/step - loss: 1.0644 - accuracy: 0.5887 - val_loss: 1.2594 - val_accuracy: 0.5269\n",
            "Epoch 15/32\n",
            "367/367 [==============================] - 25s 68ms/step - loss: 1.0531 - accuracy: 0.5963 - val_loss: 1.2546 - val_accuracy: 0.5318\n",
            "Epoch 16/32\n",
            "367/367 [==============================] - 25s 68ms/step - loss: 1.0433 - accuracy: 0.6046 - val_loss: 1.2719 - val_accuracy: 0.5243\n",
            "Epoch 17/32\n",
            "367/367 [==============================] - 25s 68ms/step - loss: 1.0333 - accuracy: 0.6123 - val_loss: 1.2664 - val_accuracy: 0.5310\n",
            "Epoch 18/32\n",
            "367/367 [==============================] - 25s 68ms/step - loss: 1.0248 - accuracy: 0.6188 - val_loss: 1.2715 - val_accuracy: 0.5312\n",
            "Epoch 19/32\n",
            "367/367 [==============================] - 25s 69ms/step - loss: 1.0144 - accuracy: 0.6254 - val_loss: 1.2961 - val_accuracy: 0.5210\n",
            "Epoch 20/32\n",
            "367/367 [==============================] - 25s 68ms/step - loss: 1.0037 - accuracy: 0.6322 - val_loss: 1.2749 - val_accuracy: 0.5333\n",
            "Epoch 21/32\n",
            "367/367 [==============================] - 25s 68ms/step - loss: 0.9927 - accuracy: 0.6380 - val_loss: 1.2776 - val_accuracy: 0.5378\n",
            "Epoch 22/32\n",
            "367/367 [==============================] - 25s 68ms/step - loss: 0.9840 - accuracy: 0.6439 - val_loss: 1.2935 - val_accuracy: 0.5312\n",
            "Epoch 23/32\n",
            "367/367 [==============================] - 25s 68ms/step - loss: 0.9746 - accuracy: 0.6495 - val_loss: 1.2897 - val_accuracy: 0.5387\n",
            "Epoch 24/32\n",
            "367/367 [==============================] - 25s 68ms/step - loss: 0.9668 - accuracy: 0.6544 - val_loss: 1.2976 - val_accuracy: 0.5383\n",
            "Epoch 25/32\n",
            "367/367 [==============================] - 25s 68ms/step - loss: 0.9592 - accuracy: 0.6582 - val_loss: 1.2958 - val_accuracy: 0.5370\n",
            "Epoch 26/32\n",
            "367/367 [==============================] - 25s 68ms/step - loss: 0.9525 - accuracy: 0.6630 - val_loss: 1.2994 - val_accuracy: 0.5438\n",
            "Epoch 27/32\n",
            "367/367 [==============================] - 25s 68ms/step - loss: 0.9441 - accuracy: 0.6677 - val_loss: 1.3105 - val_accuracy: 0.5370\n",
            "Epoch 28/32\n",
            "367/367 [==============================] - 25s 68ms/step - loss: 0.9399 - accuracy: 0.6704 - val_loss: 1.3138 - val_accuracy: 0.5373\n",
            "Epoch 29/32\n",
            "367/367 [==============================] - 25s 68ms/step - loss: 0.9320 - accuracy: 0.6753 - val_loss: 1.3102 - val_accuracy: 0.5416\n",
            "Epoch 30/32\n",
            "367/367 [==============================] - 25s 68ms/step - loss: 0.9268 - accuracy: 0.6791 - val_loss: 1.3205 - val_accuracy: 0.5359\n",
            "Epoch 31/32\n",
            "367/367 [==============================] - 25s 68ms/step - loss: 0.9197 - accuracy: 0.6825 - val_loss: 1.3203 - val_accuracy: 0.5425\n",
            "Epoch 32/32\n",
            "367/367 [==============================] - 25s 68ms/step - loss: 0.9137 - accuracy: 0.6864 - val_loss: 1.3248 - val_accuracy: 0.5431\n"
          ]
        },
        {
          "output_type": "execute_result",
          "data": {
            "text/plain": [
              "<keras.callbacks.History at 0x7f47a062bfa0>"
            ]
          },
          "metadata": {},
          "execution_count": 12
        }
      ]
    },
    {
      "cell_type": "code",
      "source": [
        "ces_vocab = ces_vectorization.get_vocabulary()\n",
        "ces_index_lookup = dict(zip(range(len(ces_vocab)), ces_vocab))\n",
        "max_decoded_sentence_length = 20\n",
        "\n",
        "\n",
        "def decode_sequence(input_sentence):\n",
        "    tokenized_input_sentence = eng_vectorization([input_sentence])\n",
        "    decoded_sentence = \"[start]\"\n",
        "    for i in range(max_decoded_sentence_length):\n",
        "        tokenized_target_sentence = ces_vectorization([decoded_sentence])[:, :-1]\n",
        "        predictions = transformer([tokenized_input_sentence, tokenized_target_sentence])\n",
        "\n",
        "        sampled_token_index = np.argmax(predictions[0, i, :])\n",
        "        sampled_token = ces_index_lookup[sampled_token_index]\n",
        "        decoded_sentence += \" \" + sampled_token\n",
        "\n",
        "        if sampled_token == \"[end]\":\n",
        "            break\n",
        "    return decoded_sentence\n",
        "\n",
        "\n",
        "test_eng_texts = [pair[0] for pair in test_pairs]\n",
        "for _ in range(30):\n",
        "    input_sentence = random.choice(test_eng_texts)\n",
        "    translated = decode_sequence(input_sentence)\n",
        "    print(input_sentence,'->',translated)"
      ],
      "metadata": {
        "colab": {
          "base_uri": "https://localhost:8080/"
        },
        "id": "8LAAY5MZ-W3m",
        "outputId": "9476f282-0048-4f09-c109-36a19cf5a5a6"
      },
      "execution_count": 14,
      "outputs": [
        {
          "output_type": "stream",
          "name": "stdout",
          "text": [
            "Put on your cap. -> [start] dej si ve čem si [end]\n",
            "I used to tell Tom everything. -> [start] kdysi mi tom řekl všechno [end]\n",
            "Today is a historic day. -> [start] dnes je ta den [end]\n",
            "We visited our old school. -> [start] se se má ve škole [end]\n",
            "I spent the weekend with friends. -> [start] strávil jsem doma s přátele [end]\n",
            "We live near a river. -> [start] na blízko na [end]\n",
            "What do you like most about summer? -> [start] to rád co má na [end]\n",
            "My father suggested that we go to the movies this afternoon. -> [start] můj otec s námi až se zase musí přestat pro mě muset [end]\n",
            "You need to shave. -> [start] musíš vás vědět [end]\n",
            "I'm sure Tom will agree. -> [start] tom si určitě nebude řídit [end]\n",
            "Tom now lives with his mom. -> [start] tom žije bydlí se svojí problémy [end]\n",
            "I was there last night. -> [start] včera jsem tam byl [end]\n",
            "I hate rainy days. -> [start] nesnáším se se dívka [end]\n",
            "When did Tom go shopping? -> [start] kdy tom šel na pláž [end]\n",
            "You should call Tom first. -> [start] měl bys přestat tom první [end]\n",
            "Tom lives on a boat. -> [start] tom bydlí na [end]\n",
            "Tom hoped somebody would buy his old bicycle. -> [start] tom koho vzal svoje kolo které jeho kolo [end]\n",
            "He is known as a great pianist. -> [start] je je se to se na to se na na [end]\n",
            "Tom couldn't finish what he'd started. -> [start] tom nemohl šanci dostat se začal [end]\n",
            "I have not finished breakfast yet. -> [start] ještě nemám žádný šanci [end]\n",
            "I heard she is married with two children. -> [start] slyšel jsem že je z bostonu rádi [end]\n",
            "You have to ask me for it. -> [start] musíš mě to abys na něj [end]\n",
            "I know exactly where Tom is. -> [start] vím že vím kde je [end]\n",
            "Tom would never let them suffer. -> [start] tom by se nikdy se se nikdy se se o to to to se se se to to se to\n",
            "He likes animals. -> [start] má rád svoji přátele [end]\n",
            "The baby is asleep. -> [start] dítě spí [end]\n",
            "That was a good year. -> [start] to byla dobrý rok [end]\n",
            "A helicopter circled over us. -> [start] na tom nás se se se z nás se se se [end]\n",
            "Tell Tom that I don't drink. -> [start] Řekni tomovi že nic co budu [end]\n",
            "Don't count your chickens before they're hatched. -> [start] neříkej při tom se ještě se se se se se se se se se se se se se se se\n"
          ]
        }
      ]
    }
  ]
}